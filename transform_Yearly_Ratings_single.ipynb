{
 "cells": [
  {
   "cell_type": "code",
   "execution_count": 1,
   "metadata": {},
   "outputs": [],
   "source": [
    "import apache_beam as beam\n",
    "import os, datetime\n",
    "from __future__ import absolute_import\n",
    "from apache_beam import pvalue\n",
    "from apache_beam.options.pipeline_options import PipelineOptions\n",
    "from apache_beam.options.pipeline_options import SetupOptions\n",
    "from apache_beam.io import ReadFromText\n",
    "from apache_beam.io import WriteToText"
   ]
  },
  {
   "cell_type": "code",
   "execution_count": 3,
   "metadata": {},
   "outputs": [
    {
     "name": "stderr",
     "output_type": "stream",
     "text": [
      "WARNING:root:Dataset coherent-server-252621:temp_dataset_2340fdfd5799498f8fd74696924d3136 does not exist so we will create it as temporary with location=None\n",
      "WARNING:root:Sleeping for 150 seconds before the write as BigQuery inserts can be routed to deleted table for 2 mins after the delete and create.\n"
     ]
    }
   ],
   "source": [
    "# extracting song titles\n",
    "class ExtractFn(beam.DoFn):\n",
    "\n",
    "    def process(self, element):\n",
    "        name = element\n",
    "        title = name.get('Title')\n",
    "        return [(title,1)]\n",
    "     \n",
    "# summing song appearances on Billboard charts\n",
    "class SumBillboardFn(beam.DoFn):\n",
    "  \n",
    "    def process(self, element):\n",
    "        name, counts_obj = element\n",
    "        counts = list(counts_obj)\n",
    "        sum_counts = len(counts)\n",
    "        return [(name, sum_counts)]  \n",
    "\n",
    "# creating BQ record\n",
    "class MakeBQRecordFn(beam.DoFn):\n",
    "  \n",
    "    def process(self, element):\n",
    "        name, total_appearances = element\n",
    "        record = {'Title' : name, 'Years_on_chart' : total_appearances} \n",
    "        return [record]   \n",
    "    \n",
    "\n",
    "\n",
    "PROJECT_ID = 'coherent-server-252621'\n",
    "\n",
    "# Project ID is needed for BigQuery data source, even for local execution.\n",
    "options = {\n",
    "    'project': PROJECT_ID\n",
    "}\n",
    "opts = beam.pipeline.PipelineOptions(flags=[], **options)\n",
    "\n",
    "# Create a Pipeline using a local runner for execution.\n",
    "with beam.Pipeline('DirectRunner', options=opts) as p:\n",
    "\n",
    "    # create a PCollection from the file contents.\n",
    "    in_pcoll = p | 'Read from BigQuery' >> beam.io.Read(beam.io.BigQuerySource(query='SELECT Title from billboard_modeled.Yearly_Ratings LIMIT 500'))\n",
    "\n",
    "    # write PCollection to log file\n",
    "    in_pcoll | 'Write to input' >> WriteToText('input.txt')\n",
    "    \n",
    "    # apply a ParDo to the PCollection \n",
    "    extract_pcoll = in_pcoll | 'Extract songs' >> beam.ParDo(ExtractFn())\n",
    "\n",
    "    # write PCollections to files\n",
    "    extract_pcoll | 'Write to extract' >> WriteToText('extract.txt')\n",
    "\n",
    "    # apply GroupByKey \n",
    "    grouped_pcoll = extract_pcoll | 'Group by song' >> beam.GroupByKey()\n",
    "    \n",
    "    # write PCollections to files\n",
    "    grouped_pcoll | 'Write to grouped' >> WriteToText('grouped.txt')\n",
    "\n",
    "    # Sum number of appearances in Billboard charts\n",
    "    summed_pcoll = grouped_pcoll | 'Sum up Billboard appearances' >> beam.ParDo(SumBillboardFn())\n",
    "    \n",
    "    # write PCollections to files\n",
    "    summed_pcoll | 'Write to summed' >> WriteToText('summed.txt')\n",
    "    \n",
    "    # make BQ records\n",
    "    bq_summed_pcoll = summed_pcoll | 'Make BQ Record' >> beam.ParDo(MakeBQRecordFn())\n",
    "    \n",
    "    # write BQ records to files\n",
    "    bq_summed_pcoll | 'Write BQ records' >> WriteToText('bq_records.txt')\n",
    "    \n",
    "    title_table_name = PROJECT_ID + ':billboard_modeled.Years_Charting'\n",
    "    table_schema = 'Title:STRING,Years_on_chart:INTEGER'\n",
    "        \n",
    "    # write Pcoll to BQ tables\n",
    "    bq_summed_pcoll | 'Write Years Charting table' >> beam.io.Write(beam.io.BigQuerySink(title_table_name, \n",
    "                                                    schema=table_schema,  \n",
    "                                                    create_disposition=beam.io.BigQueryDisposition.CREATE_IF_NEEDED,\n",
    "                                                    write_disposition=beam.io.BigQueryDisposition.WRITE_TRUNCATE))\n",
    "                                                    "
   ]
  },
  {
   "cell_type": "code",
   "execution_count": null,
   "metadata": {},
   "outputs": [],
   "source": []
  }
 ],
 "metadata": {
  "kernelspec": {
   "display_name": "Python (beam_venv)",
   "language": "python",
   "name": "beam_venv_kernel"
  },
  "language_info": {
   "codemirror_mode": {
    "name": "ipython",
    "version": 2
   },
   "file_extension": ".py",
   "mimetype": "text/x-python",
   "name": "python",
   "nbconvert_exporter": "python",
   "pygments_lexer": "ipython2",
   "version": "2.7.13"
  }
 },
 "nbformat": 4,
 "nbformat_minor": 4
}
